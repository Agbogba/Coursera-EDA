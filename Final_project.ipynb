{
 "cells": [
  {
   "cell_type": "markdown",
   "id": "african-storm",
   "metadata": {},
   "source": [
    "# Final Project"
   ]
  },
  {
   "cell_type": "markdown",
   "id": "consistent-manufacturer",
   "metadata": {},
   "source": [
    "## Part 1: Data description\n",
    "\n",
    "For my final project I chose **Iris dataset** which is a dataset of iris plant. The dataset contains 3 classes of 50 instances each, where each class refers to a type of iris plant.  One class is linearly separable from the other 2; the latter are NOT linearly separable from each other. It contains 5 attributes including the class attribute as follow:\n",
    "\n",
    "4 numeric predictive attributes:\n",
    "   1. sepal length in cm\n",
    "   2. sepal width in cm\n",
    "   3. petal length in cm\n",
    "   4. petal width in cm\n",
    "\n",
    "The class names are:\n",
    "      -- Iris Setosa\n",
    "      -- Iris Versicolour\n",
    "      -- Iris Virginica\n",
    "\n",
    "There is no missing attribute in the dataset\n",
    "\n",
    "The dataset is available at [UCI Machine Learning Repository](https://archive.ics.uci.edu/ml/datasets/Abalone)"
   ]
  },
  {
   "cell_type": "code",
   "execution_count": 1,
   "id": "knowing-concord",
   "metadata": {},
   "outputs": [],
   "source": [
    "import csv\n",
    "import numpy as np\n",
    "from collections import defaultdict\n",
    "import matplotlib.pyplot as plt\n",
    "import scipy.stats"
   ]
  },
  {
   "cell_type": "code",
   "execution_count": 2,
   "id": "fifty-compression",
   "metadata": {},
   "outputs": [],
   "source": [
    "# Loading and reading hepatitis dataset\n",
    "f = open(\"iris.csv\")\n",
    "reader = csv.reader(f, delimiter = ',')"
   ]
  },
  {
   "cell_type": "code",
   "execution_count": 3,
   "id": "integrated-theory",
   "metadata": {},
   "outputs": [],
   "source": [
    "dataset = []\n",
    "\n",
    "# I define a header myself since the dataset only contains raw numbers \n",
    "header = ['sepalLength', 'sepalWidth', 'petalLength', 'petalWidth', 'irisClass']\n",
    "\n",
    "# As the dataset numeric attributes are in string type, I first format them into float type\n",
    "\n",
    "for line in reader:\n",
    "    d = dict(zip(header, line))\n",
    "    d['sepalLength'] = float(d['sepalLength'])\n",
    "    d['sepalWidth'] = float(d['sepalWidth'])\n",
    "    d['petalLength'] = float(d['petalLength'])\n",
    "    d['petalWidth'] = float(d['petalWidth'])\n",
    "    dataset.append(d)"
   ]
  },
  {
   "cell_type": "code",
   "execution_count": 4,
   "id": "unnecessary-compensation",
   "metadata": {},
   "outputs": [
    {
     "data": {
      "text/plain": [
       "{'sepalLength': 5.1,\n",
       " 'sepalWidth': 3.5,\n",
       " 'petalLength': 1.4,\n",
       " 'petalWidth': 0.2,\n",
       " 'irisClass': 'Iris-setosa'}"
      ]
     },
     "execution_count": 4,
     "metadata": {},
     "output_type": "execute_result"
    }
   ],
   "source": [
    "# See the first entree\n",
    "dataset[0]"
   ]
  },
  {
   "cell_type": "markdown",
   "id": "prepared-produce",
   "metadata": {},
   "source": [
    "## Part 2: Simple statistics "
   ]
  },
  {
   "cell_type": "code",
   "execution_count": 5,
   "id": "still-article",
   "metadata": {},
   "outputs": [
    {
     "data": {
      "text/plain": [
       "150"
      ]
     },
     "execution_count": 5,
     "metadata": {},
     "output_type": "execute_result"
    }
   ],
   "source": [
    "# Number of entries in the dataset\n",
    "N = len(dataset) \n",
    "N"
   ]
  },
  {
   "cell_type": "code",
   "execution_count": 6,
   "id": "altered-slovenia",
   "metadata": {},
   "outputs": [
    {
     "name": "stdout",
     "output_type": "stream",
     "text": [
      "The average sepal length is 5.84\n",
      "The average sepal width is 3.05\n",
      "The average petal length is 3.76\n",
      "The average petal width is 1.20\n"
     ]
    }
   ],
   "source": [
    "# Average value of each attributes and standard deviation\n",
    "\n",
    "sepalLengths = [ d['sepalLength'] for d in dataset ] \n",
    "sepalWidths = [ d['sepalWidth'] for d in dataset ]\n",
    "petalLengths = [ d['petalLength'] for d in dataset ]\n",
    "petalWidths = [d['petalWidth'] for d in dataset ]\n",
    "\n",
    "features = np.stack([sepalLengths, sepalWidths, petalLengths, petalWidths])\n",
    "\n",
    "means = np.mean(features, axis = 1)\n",
    "\n",
    "avsepalLength = means[0]\n",
    "avsepalWidth = means[1]\n",
    "avpetalLength = means[2]\n",
    "avpetalWidth = means[3]\n",
    "\n",
    "print('The average sepal length is {:.2f}'.format(avsepalLength))\n",
    "print('The average sepal width is {:.2f}'.format(avsepalWidth))\n",
    "print('The average petal length is {:.2f}'.format(avpetalLength))\n",
    "print('The average petal width is {:.2f}'.format(avpetalWidth))"
   ]
  },
  {
   "cell_type": "code",
   "execution_count": 7,
   "id": "living-stream",
   "metadata": {},
   "outputs": [
    {
     "name": "stdout",
     "output_type": "stream",
     "text": [
      "The minimum of sepal length is 4.3 and the maximum is 7.9\n",
      "The minimum of sepal width is 2.0 and the maximum is 4.4\n",
      "The minimum of petal length is 1.0 and the maximum is 6.9\n",
      "The minimum of petal width is 0.1 and the maximum is 2.5\n"
     ]
    }
   ],
   "source": [
    "# Minimum and maximum values of each feature\n",
    "mins = np.min(features, axis = 1)\n",
    "maxs = np.max(features, axis = 1)\n",
    "\n",
    "print(\"The minimum of sepal length is {} and the maximum is {}\".format(mins[0], maxs[0]))\n",
    "print(\"The minimum of sepal width is {} and the maximum is {}\".format(mins[1], maxs[1]))\n",
    "print(\"The minimum of petal length is {} and the maximum is {}\".format(mins[2], maxs[2]))\n",
    "print(\"The minimum of petal width is {} and the maximum is {}\".format(mins[3], maxs[3]))"
   ]
  },
  {
   "cell_type": "code",
   "execution_count": 8,
   "id": "filled-surveillance",
   "metadata": {},
   "outputs": [
    {
     "data": {
      "text/plain": [
       "'Iris-virginica'"
      ]
     },
     "execution_count": 8,
     "metadata": {},
     "output_type": "execute_result"
    }
   ],
   "source": [
    "# Which class of iris has the longest sepal?\n",
    "\n",
    "datasetSorted = sorted(dataset, key = lambda k: k['sepalLength'])\n",
    "datasetSorted[-1]['irisClass']"
   ]
  },
  {
   "cell_type": "code",
   "execution_count": 9,
   "id": "paperback-springer",
   "metadata": {},
   "outputs": [
    {
     "data": {
      "text/plain": [
       "'Iris-virginica'"
      ]
     },
     "execution_count": 9,
     "metadata": {},
     "output_type": "execute_result"
    }
   ],
   "source": [
    "# Which class of iris has the longest petal?\n",
    "\n",
    "datasetSorted = sorted(dataset, key = lambda k: k['petalLength'])\n",
    "datasetSorted[-1]['irisClass']"
   ]
  },
  {
   "cell_type": "markdown",
   "id": "known-locator",
   "metadata": {},
   "source": [
    "## Part 3: Data visualization"
   ]
  },
  {
   "cell_type": "markdown",
   "id": "beneficial-fishing",
   "metadata": {},
   "source": [
    "### Histogram and box plots"
   ]
  },
  {
   "cell_type": "code",
   "execution_count": 10,
   "id": "comparable-manhattan",
   "metadata": {},
   "outputs": [],
   "source": [
    "# Distribution of sepal and petal length\n",
    "\n",
    "sepalLengthsCounts = defaultdict(int)\n",
    "petalLengthsCounts = defaultdict(int)\n",
    "\n",
    "for d in dataset:\n",
    "    sepalLengthsCounts[d['sepalLength']]+=1\n",
    "    petalLengthsCounts[d['petalLength']]+=1\n",
    "    \n"
   ]
  },
  {
   "cell_type": "code",
   "execution_count": 11,
   "id": "driven-range",
   "metadata": {},
   "outputs": [],
   "source": [
    "sepalLength_freq = []\n",
    "petalLength_freq = []\n",
    "\n",
    "for key in sepalLengthsCounts.keys():\n",
    "    for i in range(0, sepalLengthsCounts.get(key)):\n",
    "        sepalLength_freq.append(key)\n",
    "        petalLength_freq.append(key)\n",
    "        \n",
    "for key in petalLengthsCounts.keys():\n",
    "    for i in range(0, petalLengthsCounts.get(key)):\n",
    "        petalLength_freq.append(key)"
   ]
  },
  {
   "cell_type": "code",
   "execution_count": 12,
   "id": "suburban-gamma",
   "metadata": {},
   "outputs": [
    {
     "data": {
      "image/png": "[encoded data removed]",
      "text/plain": [
       "<Figure size 432x288 with 4 Axes>"
      ]
     },
     "metadata": {
      "needs_background": "light"
     },
     "output_type": "display_data"
    }
   ],
   "source": [
    "fix , axs = plt.subplots(2, 2)\n",
    "\n",
    "\n",
    "axs[0, 0].hist(sepalLength_freq)\n",
    "axs[0, 0].set_title('sepal length distribution')\n",
    "axs[0, 1].hist(petalLength_freq)\n",
    "axs[0, 1].set_title('petal length distribution')\n",
    "axs[1, 0].boxplot(sepalLength_freq)\n",
    "axs[1, 1].boxplot(petalLength_freq)\n",
    "\n",
    "plt.show()"
   ]
  },
  {
   "cell_type": "markdown",
   "id": "detailed-liberty",
   "metadata": {},
   "source": [
    "### Scatter plots"
   ]
  },
  {
   "cell_type": "code",
   "execution_count": 13,
   "id": "agreed-thanks",
   "metadata": {},
   "outputs": [
    {
     "name": "stdout",
     "output_type": "stream",
     "text": [
      "The correlation between sepal length and petal length is 0.87\n"
     ]
    },
    {
     "data": {
      "image/png": "[encoded data removed]",
      "text/plain": [
       "<Figure size 432x288 with 1 Axes>"
      ]
     },
     "metadata": {
      "needs_background": "light"
     },
     "output_type": "display_data"
    }
   ],
   "source": [
    "# Correlation between sepal and petal length\n",
    "\n",
    "co_coef = scipy.stats.pearsonr(sepalLengths, petalLengths)[0]\n",
    "print(\"The correlation between sepal length and petal length is {:.2f}\".format(co_coef))\n",
    "\n",
    "plt.scatter(sepalLengths, petalLengths)\n",
    "plt.show()"
   ]
  },
  {
   "cell_type": "markdown",
   "id": "handled-mention",
   "metadata": {},
   "source": [
    "This result show strong correlation between sepal length and petal length  "
   ]
  },
  {
   "cell_type": "markdown",
   "id": "forward-electricity",
   "metadata": {},
   "source": [
    "### Bar plots"
   ]
  },
  {
   "cell_type": "code",
   "execution_count": 14,
   "id": "perfect-shower",
   "metadata": {},
   "outputs": [
    {
     "data": {
      "image/png": "[encoded data removed]",
      "text/plain": [
       "<Figure size 432x288 with 1 Axes>"
      ]
     },
     "metadata": {
      "needs_background": "light"
     },
     "output_type": "display_data"
    }
   ],
   "source": [
    "# Comparisons Between iris class\n",
    "\n",
    "setosaSepalLength = sum([d['sepalLength'] for d in dataset if d['irisClass'] == 'Iris-setosa'])\n",
    "versicolorSepalLength = sum([d['sepalLength'] for d in dataset if d['irisClass'] == 'Iris-versicolor'])\n",
    "virginicaSepalLength = sum([d['sepalLength'] for d in dataset if d['irisClass'] == 'Iris-virginica'])\n",
    "\n",
    "index = [1]\n",
    "\n",
    "p1 = plt.bar(index, setosaSepalLength, color='blue')\n",
    "p2 = plt.bar(index, versicolorSepalLength, bottom=setosaSepalLength, color='magenta')\n",
    "p3 = plt.bar(index, virginicaSepalLength, bottom=versicolorSepalLength, color='green')\n",
    "plt.gca().set(title='Iris sepal length by class', ylabel='Total sepal length (cm)');\n",
    "plt.xticks([])\n",
    "\n",
    "plt.legend((p1[0], p2[0], p3[0]), ('Iris-setosa', 'Iris-versicolor', 'Iris-virginica'))\n",
    "plt.show()     "
   ]
  }
 ],
 "metadata": {
  "kernelspec": {
   "display_name": "Python 3",
   "language": "python",
   "name": "python3"
  },
  "language_info": {
   "codemirror_mode": {
    "name": "ipython",
    "version": 3
   },
   "file_extension": ".py",
   "mimetype": "text/x-python",
   "name": "python",
   "nbconvert_exporter": "python",
   "pygments_lexer": "ipython3",
   "version": "3.8.5"
  }
 },
 "nbformat": 4,
 "nbformat_minor": 5
}
